{
 "cells": [
  {
   "cell_type": "code",
   "execution_count": 1,
   "metadata": {},
   "outputs": [
    {
     "name": "stderr",
     "output_type": "stream",
     "text": [
      "Using TensorFlow backend.\n"
     ]
    }
   ],
   "source": [
    "import numpy as np\n",
    "import pandas as pd\n",
    "import pydicom\n",
    "%matplotlib inline\n",
    "import matplotlib.pyplot as plt\n",
    "import keras \n",
    "import json\n",
    "from keras.preprocessing.image import ImageDataGenerator"
   ]
  },
  {
   "cell_type": "code",
   "execution_count": 2,
   "metadata": {},
   "outputs": [],
   "source": [
    "# This function reads in a .dcm file, checks the important fields for our device, and returns a numpy array\n",
    "# of just the imaging data\n",
    "def check_dicom(filename): \n",
    "    \n",
    "    print('\\nLoad file {} ...'.format(filename))\n",
    "    ds = pydicom.dcmread(filename)       \n",
    "    img = ds.pixel_array\n",
    "    \n",
    "    if ds.BodyPartExamined != 'CHEST':\n",
    "        raise Exception('Incorrect BodyPartExamined')\n",
    "    if ds.Modality != 'DX':\n",
    "        raise Exception('Incorrect Modality')\n",
    "    if ds.PatientPosition not in ['AP', 'PA']:\n",
    "        raise Exception('Incorrect PatientPosition')\n",
    "    \n",
    "    return img\n",
    "    \n",
    "    \n",
    "# This function takes the numpy array output by check_dicom and \n",
    "# runs the appropriate pre-processing needed for our model input\n",
    "def preprocess_image(img,img_mean,img_std,img_size): \n",
    "    \n",
    "#     idg = ImageDataGenerator(rescale=1. / 255.0)\n",
    "#     proc_img= idg.flow(img, target_size=img_size)\n",
    "    img=img/255.0\n",
    "    proc_img=(img-img_mean)/img_std\n",
    "    # Resize image to (224,224,3)\n",
    "#     proc_img = np.zeros((224,224,3))\n",
    "    proc_img = np.resize(proc_img,(img_size))\n",
    "    \n",
    "    return proc_img\n",
    "\n",
    "# This function loads in our trained model w/ weights and compiles it \n",
    "def load_model(model_path, weight_path):\n",
    "    \n",
    "    with open('my_model.json', 'r') as json_file:\n",
    "        architecture = json.load(json_file)\n",
    "        model = keras.models.model_from_json(json.dumps(architecture))\n",
    "    \n",
    "    return model\n",
    "\n",
    "# This function uses our device's threshold parameters to predict whether or not\n",
    "# the image shows the presence of pneumonia using our trained model\n",
    "def predict_image(model, img, thresh): \n",
    "    \n",
    "    pred = model.predict(img)\n",
    "    pred = pred[0]\n",
    "    prediction = 'No pneumonia'\n",
    "    if pred > thresh:\n",
    "        prediction = 'Pneumonia'\n",
    "    return prediction "
   ]
  },
  {
   "cell_type": "code",
   "execution_count": 3,
   "metadata": {
    "scrolled": true
   },
   "outputs": [
    {
     "name": "stdout",
     "output_type": "stream",
     "text": [
      "\n",
      "Load file test1.dcm ...\n",
      "No pneumonia\n",
      "\n",
      "Load file test2.dcm ...\n",
      "No pneumonia\n",
      "\n",
      "Load file test3.dcm ...\n",
      "No pneumonia\n",
      "\n",
      "Load file test4.dcm ...\n",
      "Incorrect BodyPartExamined\n",
      "\n",
      "Load file test5.dcm ...\n",
      "Incorrect Modality\n",
      "\n",
      "Load file test6.dcm ...\n",
      "Incorrect PatientPosition\n"
     ]
    }
   ],
   "source": [
    "test_dicoms = ['test1.dcm','test2.dcm','test3.dcm','test4.dcm','test5.dcm','test6.dcm']\n",
    "\n",
    "model_path = 'my_model.json'\n",
    "weight_path = 'pneumonia_class_2_my_model.best.hdf5'\n",
    "\n",
    "IMG_SIZE=(1,224,224,3) # This might be different if you did not use vgg16\n",
    "img_mean = 105 # loads the mean image value they used during training preprocessing\n",
    "img_std = 65 # loads the std dev image value they used during training preprocessing\n",
    "\n",
    "my_model = load_model(model_path, weight_path)\n",
    "thresh = .6\n",
    "\n",
    "# use the .dcm files to test your prediction\n",
    "for i in test_dicoms:\n",
    "    \n",
    "    img = np.array([])\n",
    "    try:\n",
    "        img = check_dicom(i)\n",
    "    except Exception as e:\n",
    "        print(e)\n",
    "        continue\n",
    "        \n",
    "    img_proc = preprocess_image(img,img_mean,img_std,IMG_SIZE)\n",
    "    pred = predict_image(my_model,img_proc,thresh)\n",
    "    print(pred)"
   ]
  }
 ],
 "metadata": {
  "kernelspec": {
   "display_name": "Python 3",
   "language": "python",
   "name": "python3"
  },
  "language_info": {
   "codemirror_mode": {
    "name": "ipython",
    "version": 3
   },
   "file_extension": ".py",
   "mimetype": "text/x-python",
   "name": "python",
   "nbconvert_exporter": "python",
   "pygments_lexer": "ipython3",
   "version": "3.7.6"
  }
 },
 "nbformat": 4,
 "nbformat_minor": 2
}
